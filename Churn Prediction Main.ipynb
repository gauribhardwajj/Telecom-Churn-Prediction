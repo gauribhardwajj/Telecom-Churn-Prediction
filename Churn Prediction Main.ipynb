{
 "cells": [
  {
   "cell_type": "code",
   "execution_count": 1,
   "id": "1c05a7c3",
   "metadata": {},
   "outputs": [],
   "source": [
    "import numpy as np\n",
    "import pandas as pd\n",
    "import seaborn as sns\n",
    "import matplotlib.ticker as mtick\n",
    "import matplotlib.pyplot as plt\n",
    "%matplotlib inline\n",
    "from statsmodels.stats.outliers_influence import variance_inflation_factor"
   ]
  },
  {
   "cell_type": "markdown",
   "id": "1e57a770",
   "metadata": {},
   "source": [
    "### Loading the dataset "
   ]
  },
  {
   "cell_type": "code",
   "execution_count": 2,
   "id": "4b726671",
   "metadata": {},
   "outputs": [],
   "source": [
    "churn_data= pd.read_csv(\"churn_data.csv\");"
   ]
  },
  {
   "cell_type": "code",
   "execution_count": 3,
   "id": "6958066c",
   "metadata": {},
   "outputs": [
    {
     "data": {
      "text/html": [
       "<div>\n",
       "<style scoped>\n",
       "    .dataframe tbody tr th:only-of-type {\n",
       "        vertical-align: middle;\n",
       "    }\n",
       "\n",
       "    .dataframe tbody tr th {\n",
       "        vertical-align: top;\n",
       "    }\n",
       "\n",
       "    .dataframe thead th {\n",
       "        text-align: right;\n",
       "    }\n",
       "</style>\n",
       "<table border=\"1\" class=\"dataframe\">\n",
       "  <thead>\n",
       "    <tr style=\"text-align: right;\">\n",
       "      <th></th>\n",
       "      <th>s6.new.rev.p2.m2</th>\n",
       "      <th>s1.new.rev.m1</th>\n",
       "      <th>s3.og.rev.4db.p5</th>\n",
       "      <th>s3.new.rev.4db.p5</th>\n",
       "      <th>s4.usg.ins.p2</th>\n",
       "      <th>s4.og.unq.any.p2</th>\n",
       "      <th>s2.rch.val.p6</th>\n",
       "      <th>s1.og.rev.all.m1</th>\n",
       "      <th>s8.new.rev.p6</th>\n",
       "      <th>s4.loc.ic.ins.p1</th>\n",
       "      <th>...</th>\n",
       "      <th>prop.og.mou.tot.mou.all.p6</th>\n",
       "      <th>prop.i2i.og.mou.p6</th>\n",
       "      <th>s4.loc.ic.ins.p2</th>\n",
       "      <th>s4.std.ic.ins.l14</th>\n",
       "      <th>s4.low.blnc.ins.p4</th>\n",
       "      <th>s3.og.rev.all.m2</th>\n",
       "      <th>s3.new.rev.m2</th>\n",
       "      <th>prop.og.mou.any.p6</th>\n",
       "      <th>prop.loc.i2i.mou.og.mou.p3</th>\n",
       "      <th>s3.rev.p1</th>\n",
       "    </tr>\n",
       "  </thead>\n",
       "  <tbody>\n",
       "    <tr>\n",
       "      <th>0</th>\n",
       "      <td>-0.76</td>\n",
       "      <td>88.0482</td>\n",
       "      <td>3.106604</td>\n",
       "      <td>3.754955</td>\n",
       "      <td>4</td>\n",
       "      <td>14</td>\n",
       "      <td>39.29</td>\n",
       "      <td>57.320</td>\n",
       "      <td>-0.17</td>\n",
       "      <td>1</td>\n",
       "      <td>...</td>\n",
       "      <td>0.454642</td>\n",
       "      <td>0.497397</td>\n",
       "      <td>4</td>\n",
       "      <td>0</td>\n",
       "      <td>9</td>\n",
       "      <td>6.02</td>\n",
       "      <td>8.20</td>\n",
       "      <td>46.465636</td>\n",
       "      <td>0.609456</td>\n",
       "      <td>0.22</td>\n",
       "    </tr>\n",
       "    <tr>\n",
       "      <th>1</th>\n",
       "      <td>-0.98</td>\n",
       "      <td>67.5039</td>\n",
       "      <td>3.094574</td>\n",
       "      <td>5.550865</td>\n",
       "      <td>1</td>\n",
       "      <td>2</td>\n",
       "      <td>21.67</td>\n",
       "      <td>38.700</td>\n",
       "      <td>-0.32</td>\n",
       "      <td>3</td>\n",
       "      <td>...</td>\n",
       "      <td>0.343190</td>\n",
       "      <td>0.767617</td>\n",
       "      <td>6</td>\n",
       "      <td>0</td>\n",
       "      <td>20</td>\n",
       "      <td>3.66</td>\n",
       "      <td>8.10</td>\n",
       "      <td>34.525456</td>\n",
       "      <td>1.000000</td>\n",
       "      <td>0.38</td>\n",
       "    </tr>\n",
       "    <tr>\n",
       "      <th>2</th>\n",
       "      <td>-0.98</td>\n",
       "      <td>33.9248</td>\n",
       "      <td>2.324016</td>\n",
       "      <td>2.438114</td>\n",
       "      <td>2</td>\n",
       "      <td>3</td>\n",
       "      <td>30.00</td>\n",
       "      <td>15.320</td>\n",
       "      <td>-0.05</td>\n",
       "      <td>3</td>\n",
       "      <td>...</td>\n",
       "      <td>0.101838</td>\n",
       "      <td>0.619034</td>\n",
       "      <td>6</td>\n",
       "      <td>1</td>\n",
       "      <td>19</td>\n",
       "      <td>4.33</td>\n",
       "      <td>4.36</td>\n",
       "      <td>10.298451</td>\n",
       "      <td>0.699592</td>\n",
       "      <td>0.11</td>\n",
       "    </tr>\n",
       "    <tr>\n",
       "      <th>3</th>\n",
       "      <td>-0.92</td>\n",
       "      <td>82.6780</td>\n",
       "      <td>2.630749</td>\n",
       "      <td>2.858961</td>\n",
       "      <td>2</td>\n",
       "      <td>3</td>\n",
       "      <td>50.00</td>\n",
       "      <td>51.956</td>\n",
       "      <td>-0.18</td>\n",
       "      <td>4</td>\n",
       "      <td>...</td>\n",
       "      <td>0.066602</td>\n",
       "      <td>0.437088</td>\n",
       "      <td>7</td>\n",
       "      <td>2</td>\n",
       "      <td>11</td>\n",
       "      <td>3.40</td>\n",
       "      <td>3.53</td>\n",
       "      <td>6.670783</td>\n",
       "      <td>0.086617</td>\n",
       "      <td>5.18</td>\n",
       "    </tr>\n",
       "    <tr>\n",
       "      <th>4</th>\n",
       "      <td>-0.97</td>\n",
       "      <td>96.8379</td>\n",
       "      <td>2.674316</td>\n",
       "      <td>2.912397</td>\n",
       "      <td>3</td>\n",
       "      <td>2</td>\n",
       "      <td>22.50</td>\n",
       "      <td>66.886</td>\n",
       "      <td>0.01</td>\n",
       "      <td>4</td>\n",
       "      <td>...</td>\n",
       "      <td>0.219821</td>\n",
       "      <td>0.585977</td>\n",
       "      <td>6</td>\n",
       "      <td>1</td>\n",
       "      <td>14</td>\n",
       "      <td>3.85</td>\n",
       "      <td>3.87</td>\n",
       "      <td>21.998905</td>\n",
       "      <td>0.683105</td>\n",
       "      <td>0.10</td>\n",
       "    </tr>\n",
       "  </tbody>\n",
       "</table>\n",
       "<p>5 rows × 111 columns</p>\n",
       "</div>"
      ],
      "text/plain": [
       "   s6.new.rev.p2.m2  s1.new.rev.m1  s3.og.rev.4db.p5  s3.new.rev.4db.p5  \\\n",
       "0             -0.76        88.0482          3.106604           3.754955   \n",
       "1             -0.98        67.5039          3.094574           5.550865   \n",
       "2             -0.98        33.9248          2.324016           2.438114   \n",
       "3             -0.92        82.6780          2.630749           2.858961   \n",
       "4             -0.97        96.8379          2.674316           2.912397   \n",
       "\n",
       "   s4.usg.ins.p2  s4.og.unq.any.p2  s2.rch.val.p6  s1.og.rev.all.m1  \\\n",
       "0              4                14          39.29            57.320   \n",
       "1              1                 2          21.67            38.700   \n",
       "2              2                 3          30.00            15.320   \n",
       "3              2                 3          50.00            51.956   \n",
       "4              3                 2          22.50            66.886   \n",
       "\n",
       "   s8.new.rev.p6  s4.loc.ic.ins.p1  ...  prop.og.mou.tot.mou.all.p6  \\\n",
       "0          -0.17                 1  ...                    0.454642   \n",
       "1          -0.32                 3  ...                    0.343190   \n",
       "2          -0.05                 3  ...                    0.101838   \n",
       "3          -0.18                 4  ...                    0.066602   \n",
       "4           0.01                 4  ...                    0.219821   \n",
       "\n",
       "   prop.i2i.og.mou.p6  s4.loc.ic.ins.p2  s4.std.ic.ins.l14  \\\n",
       "0            0.497397                 4                  0   \n",
       "1            0.767617                 6                  0   \n",
       "2            0.619034                 6                  1   \n",
       "3            0.437088                 7                  2   \n",
       "4            0.585977                 6                  1   \n",
       "\n",
       "   s4.low.blnc.ins.p4  s3.og.rev.all.m2  s3.new.rev.m2  prop.og.mou.any.p6  \\\n",
       "0                   9              6.02           8.20           46.465636   \n",
       "1                  20              3.66           8.10           34.525456   \n",
       "2                  19              4.33           4.36           10.298451   \n",
       "3                  11              3.40           3.53            6.670783   \n",
       "4                  14              3.85           3.87           21.998905   \n",
       "\n",
       "   prop.loc.i2i.mou.og.mou.p3  s3.rev.p1  \n",
       "0                    0.609456       0.22  \n",
       "1                    1.000000       0.38  \n",
       "2                    0.699592       0.11  \n",
       "3                    0.086617       5.18  \n",
       "4                    0.683105       0.10  \n",
       "\n",
       "[5 rows x 111 columns]"
      ]
     },
     "execution_count": 3,
     "metadata": {},
     "output_type": "execute_result"
    }
   ],
   "source": [
    "churn_data.head()"
   ]
  },
  {
   "cell_type": "markdown",
   "id": "0a8ca07f",
   "metadata": {},
   "source": [
    "### Understanding the dataset: Sanity Check"
   ]
  },
  {
   "cell_type": "markdown",
   "id": "edffcf1d",
   "metadata": {},
   "source": [
    "A sanity check of a dataset is a set of preliminary checks and validations to ensure that the data is reasonable, consistent, and free from obvious errors before conducting more detailed analysis or building models. It helps in identifying and correcting issues early in the data processing pipeline, saving time and resources."
   ]
  },
  {
   "cell_type": "code",
   "execution_count": 22,
   "id": "86b7d8e2",
   "metadata": {},
   "outputs": [
    {
     "name": "stdout",
     "output_type": "stream",
     "text": [
      "(25000, 111)\n",
      "\n",
      "\n",
      "<class 'pandas.core.frame.DataFrame'>\n",
      "RangeIndex: 25000 entries, 0 to 24999\n",
      "Data columns (total 111 columns):\n",
      " #    Column                      Dtype  \n",
      "---   ------                      -----  \n",
      " 0    s6.new.rev.p2.m2            float64\n",
      " 1    s1.new.rev.m1               float64\n",
      " 2    s3.og.rev.4db.p5            float64\n",
      " 3    s3.new.rev.4db.p5           float64\n",
      " 4    s4.usg.ins.p2               int64  \n",
      " 5    s4.og.unq.any.p2            int64  \n",
      " 6    s2.rch.val.p6               float64\n",
      " 7    s1.og.rev.all.m1            float64\n",
      " 8    s8.new.rev.p6               float64\n",
      " 9    s4.loc.ic.ins.p1            int64  \n",
      " 10   s8.mbl.p2                   float64\n",
      " 11   s2.rch.val.l67              float64\n",
      " 12   s7.s4.day.no.mou.p2.p4      float64\n",
      " 13   s3.new.rev.p3               float64\n",
      " 14   s7.s5.s4.day.nomou.p4       float64\n",
      " 15   s8.og.rev.p3                float64\n",
      " 16   s8.ic.mou.all.p3            float64\n",
      " 17   target                      int64  \n",
      " 18   s7.new.rev.p2.p6            float64\n",
      " 19   s6.rtd.mou.p2.m2            float64\n",
      " 20   s7.rtd.mou.p2.p6            float64\n",
      " 21   s1.new.rev.p2               float64\n",
      " 22   s1.new.rev.p1               float64\n",
      " 23   s1.og.hom.mou.p1            float64\n",
      " 24   s7.rev.p2.p6                float64\n",
      " 25   s1.og.hom.rev.p2            float64\n",
      " 26   s1.rtd.mou.p1               float64\n",
      " 27   s1.og.rev.all.p1            float64\n",
      " 28   s1.og.mou.all.p1            float64\n",
      " 29   s3.og.rev.all.p1            float64\n",
      " 30   s7.new.rev.p3.p6            float64\n",
      " 31   ds.usg.p6                   int64  \n",
      " 32   snd.dec.p2                  float64\n",
      " 33   s3.og.mou.all.p1            float64\n",
      " 34   ds.og.usg.p4                int64  \n",
      " 35   s1.og.mou.all.p2            float64\n",
      " 36   s8.og.rev.p6                float64\n",
      " 37   s1.og.hom.mou.p2            float64\n",
      " 38   s5.og.rev.all.p1            float64\n",
      " 39   s1.og.rev.all.p2            float64\n",
      " 40   s1.rtd.mou.p2               float64\n",
      " 41   s5.rtd.mou.p1               float64\n",
      " 42   s1.og.mou.any.p2            float64\n",
      " 43   s4.day.no.mou.p2            int64  \n",
      " 44   s1.hom.rmg.rev.p2           float64\n",
      " 45   s7.rtd.mou.p3.p6            float64\n",
      " 46   s5.og.mou.all.p1            float64\n",
      " 47   s5.og.hom.mou.p1            float64\n",
      " 48   s3.new.rev.p1               float64\n",
      " 49   s4.usg.ins.p1               int64  \n",
      " 50   s2.s4.day.no.mou.p2         float64\n",
      " 51   s7.new.rev.l21.p6           float64\n",
      " 52   s5.rev.p1                   float64\n",
      " 53   s5.s4.day.no.mou.p2         int64  \n",
      " 54   tot.s4.day.no.mou.p2        int64  \n",
      " 55   s8.new.rev.p3               float64\n",
      " 56   s3.og.mou.all.p2            float64\n",
      " 57   s1.rev.p1                   float64\n",
      " 58   s4.loc.og.ins.p1            int64  \n",
      " 59   s1.loc.og.mou.p1            float64\n",
      " 60   s4.og.any.p2                int64  \n",
      " 61   prop.og.mou.any.p2          float64\n",
      " 62   s4.low.blnc.ins.p3          int64  \n",
      " 63   s1.loc.og.mou.p2            float64\n",
      " 64   s5.new.rev.p2               float64\n",
      " 65   s5.new.rev.p1               float64\n",
      " 66   s4.low.blnc.ins.l14         int64  \n",
      " 67   s3.og.hom.mou.p1            float64\n",
      " 68   s7.rtd.mou.l21.p6           float64\n",
      " 69   s4.loc.og.ins.l14           int64  \n",
      " 70   s8.rtd.mou.p3               float64\n",
      " 71   s4.dec.ins.l14              int64  \n",
      " 72   s2.s4.day.no.mou.p3         float64\n",
      " 73   s3.new.rev.p2               float64\n",
      " 74   tot.s4.day.no.mou.p3        int64  \n",
      " 75   s5.og.mou.all.p2            float64\n",
      " 76   s4.loc.ic.ins.l14           int64  \n",
      " 77   s4.usg.ins.l14              int64  \n",
      " 78   s4.loc.og.ins.p2            int64  \n",
      " 79   s3.rtd.mou.p1               float64\n",
      " 80   s7.s5.s4.day.nomou.p2       float64\n",
      " 81   s8.og.mou.all.p6            float64\n",
      " 82   s5.og.hom.mou.p2            float64\n",
      " 83   s7.rtd.mou.m1.m2            float64\n",
      " 84   prop.og.mou.tot.mou.all.p2  float64\n",
      " 85   s8.rev.p6                   float64\n",
      " 86   s7.s5.s4.day.nomou.p3       float64\n",
      " 87   s5.rev.p2                   float64\n",
      " 88   s1.new.rev.m2               float64\n",
      " 89   s3.og.rev.3db.p5            float64\n",
      " 90   s4.rch.val.gt.30.p2         int64  \n",
      " 91   s8.rtd.mou.p6               float64\n",
      " 92   s4.std.ins.l14              int64  \n",
      " 93   s4.low.blnc.ins.p2          int64  \n",
      " 94   s4.low.blnc.ins.p6          int64  \n",
      " 95   s4.loc.ins.l14              int64  \n",
      " 96   s4.low.blnc.ins.m2          int64  \n",
      " 97   s4.data.ins.l14             int64  \n",
      " 98   prop.loc.i2i.mou.og.mou.p6  float64\n",
      " 99   s4.dec.ins.p2               int64  \n",
      " 100  s1.rev.p2                   float64\n",
      " 101  prop.og.mou.tot.mou.all.p6  float64\n",
      " 102  prop.i2i.og.mou.p6          float64\n",
      " 103  s4.loc.ic.ins.p2            int64  \n",
      " 104  s4.std.ic.ins.l14           int64  \n",
      " 105  s4.low.blnc.ins.p4          int64  \n",
      " 106  s3.og.rev.all.m2            float64\n",
      " 107  s3.new.rev.m2               float64\n",
      " 108  prop.og.mou.any.p6          float64\n",
      " 109  prop.loc.i2i.mou.og.mou.p3  float64\n",
      " 110  s3.rev.p1                   float64\n",
      "dtypes: float64(80), int64(31)\n",
      "memory usage: 21.2 MB\n",
      "None\n"
     ]
    }
   ],
   "source": [
    "#Checking the shape\n",
    "print(churn_data.shape)\n",
    "print('\\n')\n",
    "\n",
    "# Checking Dataset Info \n",
    "print(churn_data.info(verbose=True))"
   ]
  },
  {
   "cell_type": "markdown",
   "id": "6a9ebe4f",
   "metadata": {},
   "source": [
    "### Summary and Checking Outliers"
   ]
  },
  {
   "cell_type": "markdown",
   "id": "cf1408cc",
   "metadata": {},
   "source": [
    "**Reasons to calculate the 0.99 percentile:**\n",
    "<br>\n",
    "Outlier Detection: The 0.99 percentile can help **identify extreme values or outliers** in the dataset. Values above this threshold can be considered outliers and may require further investigation or handling.\n",
    "\n",
    "<br>\n",
    "Risk Management: In finance and insurance, the 99th percentile is often used to **assess Value at Risk (VaR) or potential extreme losses**. It provides insights into the worst-case scenarios that can be expected 1% of the time."
   ]
  },
  {
   "cell_type": "code",
   "execution_count": 23,
   "id": "1912b1f6",
   "metadata": {
    "scrolled": true
   },
   "outputs": [
    {
     "data": {
      "text/html": [
       "<div>\n",
       "<style scoped>\n",
       "    .dataframe tbody tr th:only-of-type {\n",
       "        vertical-align: middle;\n",
       "    }\n",
       "\n",
       "    .dataframe tbody tr th {\n",
       "        vertical-align: top;\n",
       "    }\n",
       "\n",
       "    .dataframe thead th {\n",
       "        text-align: right;\n",
       "    }\n",
       "</style>\n",
       "<table border=\"1\" class=\"dataframe\">\n",
       "  <thead>\n",
       "    <tr style=\"text-align: right;\">\n",
       "      <th></th>\n",
       "      <th>s6.new.rev.p2.m2</th>\n",
       "      <th>s1.new.rev.m1</th>\n",
       "      <th>s3.og.rev.4db.p5</th>\n",
       "      <th>s3.new.rev.4db.p5</th>\n",
       "      <th>s4.usg.ins.p2</th>\n",
       "      <th>s4.og.unq.any.p2</th>\n",
       "      <th>s2.rch.val.p6</th>\n",
       "      <th>s1.og.rev.all.m1</th>\n",
       "      <th>s8.new.rev.p6</th>\n",
       "      <th>s4.loc.ic.ins.p1</th>\n",
       "      <th>...</th>\n",
       "      <th>prop.og.mou.tot.mou.all.p6</th>\n",
       "      <th>prop.i2i.og.mou.p6</th>\n",
       "      <th>s4.loc.ic.ins.p2</th>\n",
       "      <th>s4.std.ic.ins.l14</th>\n",
       "      <th>s4.low.blnc.ins.p4</th>\n",
       "      <th>s3.og.rev.all.m2</th>\n",
       "      <th>s3.new.rev.m2</th>\n",
       "      <th>prop.og.mou.any.p6</th>\n",
       "      <th>prop.loc.i2i.mou.og.mou.p3</th>\n",
       "      <th>s3.rev.p1</th>\n",
       "    </tr>\n",
       "  </thead>\n",
       "  <tbody>\n",
       "    <tr>\n",
       "      <th>count</th>\n",
       "      <td>25000.000000</td>\n",
       "      <td>25000.000000</td>\n",
       "      <td>25000.000000</td>\n",
       "      <td>25000.000000</td>\n",
       "      <td>25000.000000</td>\n",
       "      <td>25000.000000</td>\n",
       "      <td>25000.000000</td>\n",
       "      <td>25000.000000</td>\n",
       "      <td>25000.000000</td>\n",
       "      <td>25000.000000</td>\n",
       "      <td>...</td>\n",
       "      <td>25000.000000</td>\n",
       "      <td>25000.000000</td>\n",
       "      <td>25000.000000</td>\n",
       "      <td>25000.000000</td>\n",
       "      <td>25000.000000</td>\n",
       "      <td>25000.000000</td>\n",
       "      <td>25000.000000</td>\n",
       "      <td>25000.000000</td>\n",
       "      <td>25000.000000</td>\n",
       "      <td>25000.000000</td>\n",
       "    </tr>\n",
       "    <tr>\n",
       "      <th>mean</th>\n",
       "      <td>-0.003730</td>\n",
       "      <td>281.073083</td>\n",
       "      <td>4.890003</td>\n",
       "      <td>7.070194</td>\n",
       "      <td>5.460080</td>\n",
       "      <td>28.532520</td>\n",
       "      <td>72.208906</td>\n",
       "      <td>218.517937</td>\n",
       "      <td>-0.028327</td>\n",
       "      <td>3.254720</td>\n",
       "      <td>...</td>\n",
       "      <td>0.538407</td>\n",
       "      <td>0.485523</td>\n",
       "      <td>5.731280</td>\n",
       "      <td>1.797320</td>\n",
       "      <td>8.382160</td>\n",
       "      <td>8.008660</td>\n",
       "      <td>12.540182</td>\n",
       "      <td>53.594165</td>\n",
       "      <td>0.483975</td>\n",
       "      <td>9.951366</td>\n",
       "    </tr>\n",
       "    <tr>\n",
       "      <th>std</th>\n",
       "      <td>2.727916</td>\n",
       "      <td>276.075983</td>\n",
       "      <td>4.212452</td>\n",
       "      <td>6.318992</td>\n",
       "      <td>2.184444</td>\n",
       "      <td>28.061435</td>\n",
       "      <td>67.921490</td>\n",
       "      <td>231.321064</td>\n",
       "      <td>0.354573</td>\n",
       "      <td>1.193271</td>\n",
       "      <td>...</td>\n",
       "      <td>0.209203</td>\n",
       "      <td>0.271146</td>\n",
       "      <td>1.936848</td>\n",
       "      <td>3.048943</td>\n",
       "      <td>8.961016</td>\n",
       "      <td>6.152429</td>\n",
       "      <td>11.540611</td>\n",
       "      <td>21.408486</td>\n",
       "      <td>0.292349</td>\n",
       "      <td>17.648128</td>\n",
       "    </tr>\n",
       "    <tr>\n",
       "      <th>min</th>\n",
       "      <td>-1.000000</td>\n",
       "      <td>0.000000</td>\n",
       "      <td>0.000000</td>\n",
       "      <td>0.000833</td>\n",
       "      <td>0.000000</td>\n",
       "      <td>0.000000</td>\n",
       "      <td>0.000000</td>\n",
       "      <td>0.000000</td>\n",
       "      <td>-5.090000</td>\n",
       "      <td>0.000000</td>\n",
       "      <td>...</td>\n",
       "      <td>0.000000</td>\n",
       "      <td>0.000000</td>\n",
       "      <td>0.000000</td>\n",
       "      <td>0.000000</td>\n",
       "      <td>0.000000</td>\n",
       "      <td>0.000000</td>\n",
       "      <td>0.000000</td>\n",
       "      <td>0.000000</td>\n",
       "      <td>0.000000</td>\n",
       "      <td>0.000000</td>\n",
       "    </tr>\n",
       "    <tr>\n",
       "      <th>25%</th>\n",
       "      <td>-0.580000</td>\n",
       "      <td>101.563800</td>\n",
       "      <td>2.367288</td>\n",
       "      <td>3.318825</td>\n",
       "      <td>5.000000</td>\n",
       "      <td>9.000000</td>\n",
       "      <td>33.000000</td>\n",
       "      <td>74.420000</td>\n",
       "      <td>-0.160000</td>\n",
       "      <td>3.000000</td>\n",
       "      <td>...</td>\n",
       "      <td>0.394227</td>\n",
       "      <td>0.274034</td>\n",
       "      <td>5.000000</td>\n",
       "      <td>0.000000</td>\n",
       "      <td>1.000000</td>\n",
       "      <td>4.207500</td>\n",
       "      <td>6.167500</td>\n",
       "      <td>39.378142</td>\n",
       "      <td>0.251304</td>\n",
       "      <td>1.970000</td>\n",
       "    </tr>\n",
       "    <tr>\n",
       "      <th>50%</th>\n",
       "      <td>-0.170000</td>\n",
       "      <td>204.859600</td>\n",
       "      <td>3.729944</td>\n",
       "      <td>5.231268</td>\n",
       "      <td>7.000000</td>\n",
       "      <td>21.000000</td>\n",
       "      <td>52.260000</td>\n",
       "      <td>151.168500</td>\n",
       "      <td>-0.020000</td>\n",
       "      <td>4.000000</td>\n",
       "      <td>...</td>\n",
       "      <td>0.539354</td>\n",
       "      <td>0.476759</td>\n",
       "      <td>7.000000</td>\n",
       "      <td>0.000000</td>\n",
       "      <td>5.000000</td>\n",
       "      <td>6.345000</td>\n",
       "      <td>9.350000</td>\n",
       "      <td>53.976203</td>\n",
       "      <td>0.477621</td>\n",
       "      <td>5.380000</td>\n",
       "    </tr>\n",
       "    <tr>\n",
       "      <th>75%</th>\n",
       "      <td>0.280000</td>\n",
       "      <td>370.711650</td>\n",
       "      <td>5.993342</td>\n",
       "      <td>8.395736</td>\n",
       "      <td>7.000000</td>\n",
       "      <td>39.000000</td>\n",
       "      <td>89.852500</td>\n",
       "      <td>284.265000</td>\n",
       "      <td>0.110000</td>\n",
       "      <td>4.000000</td>\n",
       "      <td>...</td>\n",
       "      <td>0.682695</td>\n",
       "      <td>0.694104</td>\n",
       "      <td>7.000000</td>\n",
       "      <td>2.000000</td>\n",
       "      <td>14.000000</td>\n",
       "      <td>9.830000</td>\n",
       "      <td>14.620000</td>\n",
       "      <td>68.312416</td>\n",
       "      <td>0.716538</td>\n",
       "      <td>11.400000</td>\n",
       "    </tr>\n",
       "    <tr>\n",
       "      <th>99%</th>\n",
       "      <td>3.040000</td>\n",
       "      <td>1298.073753</td>\n",
       "      <td>20.943683</td>\n",
       "      <td>29.381655</td>\n",
       "      <td>7.000000</td>\n",
       "      <td>129.000000</td>\n",
       "      <td>300.000000</td>\n",
       "      <td>1098.201190</td>\n",
       "      <td>1.000000</td>\n",
       "      <td>4.000000</td>\n",
       "      <td>...</td>\n",
       "      <td>0.977610</td>\n",
       "      <td>0.995526</td>\n",
       "      <td>7.000000</td>\n",
       "      <td>13.000000</td>\n",
       "      <td>30.000000</td>\n",
       "      <td>30.740400</td>\n",
       "      <td>57.150400</td>\n",
       "      <td>97.798840</td>\n",
       "      <td>1.000000</td>\n",
       "      <td>92.350700</td>\n",
       "    </tr>\n",
       "    <tr>\n",
       "      <th>max</th>\n",
       "      <td>316.860000</td>\n",
       "      <td>5702.924300</td>\n",
       "      <td>153.221695</td>\n",
       "      <td>170.200441</td>\n",
       "      <td>7.000000</td>\n",
       "      <td>622.000000</td>\n",
       "      <td>2249.000000</td>\n",
       "      <td>3767.565000</td>\n",
       "      <td>5.000000</td>\n",
       "      <td>4.000000</td>\n",
       "      <td>...</td>\n",
       "      <td>1.000000</td>\n",
       "      <td>1.000000</td>\n",
       "      <td>7.000000</td>\n",
       "      <td>14.000000</td>\n",
       "      <td>30.000000</td>\n",
       "      <td>171.780000</td>\n",
       "      <td>386.480000</td>\n",
       "      <td>100.000000</td>\n",
       "      <td>1.000000</td>\n",
       "      <td>585.500000</td>\n",
       "    </tr>\n",
       "  </tbody>\n",
       "</table>\n",
       "<p>9 rows × 111 columns</p>\n",
       "</div>"
      ],
      "text/plain": [
       "       s6.new.rev.p2.m2  s1.new.rev.m1  s3.og.rev.4db.p5  s3.new.rev.4db.p5  \\\n",
       "count      25000.000000   25000.000000      25000.000000       25000.000000   \n",
       "mean          -0.003730     281.073083          4.890003           7.070194   \n",
       "std            2.727916     276.075983          4.212452           6.318992   \n",
       "min           -1.000000       0.000000          0.000000           0.000833   \n",
       "25%           -0.580000     101.563800          2.367288           3.318825   \n",
       "50%           -0.170000     204.859600          3.729944           5.231268   \n",
       "75%            0.280000     370.711650          5.993342           8.395736   \n",
       "99%            3.040000    1298.073753         20.943683          29.381655   \n",
       "max          316.860000    5702.924300        153.221695         170.200441   \n",
       "\n",
       "       s4.usg.ins.p2  s4.og.unq.any.p2  s2.rch.val.p6  s1.og.rev.all.m1  \\\n",
       "count   25000.000000      25000.000000   25000.000000      25000.000000   \n",
       "mean        5.460080         28.532520      72.208906        218.517937   \n",
       "std         2.184444         28.061435      67.921490        231.321064   \n",
       "min         0.000000          0.000000       0.000000          0.000000   \n",
       "25%         5.000000          9.000000      33.000000         74.420000   \n",
       "50%         7.000000         21.000000      52.260000        151.168500   \n",
       "75%         7.000000         39.000000      89.852500        284.265000   \n",
       "99%         7.000000        129.000000     300.000000       1098.201190   \n",
       "max         7.000000        622.000000    2249.000000       3767.565000   \n",
       "\n",
       "       s8.new.rev.p6  s4.loc.ic.ins.p1  ...  prop.og.mou.tot.mou.all.p6  \\\n",
       "count   25000.000000      25000.000000  ...                25000.000000   \n",
       "mean       -0.028327          3.254720  ...                    0.538407   \n",
       "std         0.354573          1.193271  ...                    0.209203   \n",
       "min        -5.090000          0.000000  ...                    0.000000   \n",
       "25%        -0.160000          3.000000  ...                    0.394227   \n",
       "50%        -0.020000          4.000000  ...                    0.539354   \n",
       "75%         0.110000          4.000000  ...                    0.682695   \n",
       "99%         1.000000          4.000000  ...                    0.977610   \n",
       "max         5.000000          4.000000  ...                    1.000000   \n",
       "\n",
       "       prop.i2i.og.mou.p6  s4.loc.ic.ins.p2  s4.std.ic.ins.l14  \\\n",
       "count        25000.000000      25000.000000       25000.000000   \n",
       "mean             0.485523          5.731280           1.797320   \n",
       "std              0.271146          1.936848           3.048943   \n",
       "min              0.000000          0.000000           0.000000   \n",
       "25%              0.274034          5.000000           0.000000   \n",
       "50%              0.476759          7.000000           0.000000   \n",
       "75%              0.694104          7.000000           2.000000   \n",
       "99%              0.995526          7.000000          13.000000   \n",
       "max              1.000000          7.000000          14.000000   \n",
       "\n",
       "       s4.low.blnc.ins.p4  s3.og.rev.all.m2  s3.new.rev.m2  \\\n",
       "count        25000.000000      25000.000000   25000.000000   \n",
       "mean             8.382160          8.008660      12.540182   \n",
       "std              8.961016          6.152429      11.540611   \n",
       "min              0.000000          0.000000       0.000000   \n",
       "25%              1.000000          4.207500       6.167500   \n",
       "50%              5.000000          6.345000       9.350000   \n",
       "75%             14.000000          9.830000      14.620000   \n",
       "99%             30.000000         30.740400      57.150400   \n",
       "max             30.000000        171.780000     386.480000   \n",
       "\n",
       "       prop.og.mou.any.p6  prop.loc.i2i.mou.og.mou.p3     s3.rev.p1  \n",
       "count        25000.000000                25000.000000  25000.000000  \n",
       "mean            53.594165                    0.483975      9.951366  \n",
       "std             21.408486                    0.292349     17.648128  \n",
       "min              0.000000                    0.000000      0.000000  \n",
       "25%             39.378142                    0.251304      1.970000  \n",
       "50%             53.976203                    0.477621      5.380000  \n",
       "75%             68.312416                    0.716538     11.400000  \n",
       "99%             97.798840                    1.000000     92.350700  \n",
       "max            100.000000                    1.000000    585.500000  \n",
       "\n",
       "[9 rows x 111 columns]"
      ]
     },
     "execution_count": 23,
     "metadata": {},
     "output_type": "execute_result"
    }
   ],
   "source": [
    "churn_data.describe(percentiles=[0.25,0.5,0.75,0.99])\n",
    "# Each value represents the threshold below which x% of the data for that specific column falls"
   ]
  },
  {
   "cell_type": "code",
   "execution_count": 24,
   "id": "2ea6cb56",
   "metadata": {},
   "outputs": [
    {
     "name": "stdout",
     "output_type": "stream",
     "text": [
      "Percentage of customers who have not churned (0): 68.33%\n",
      "Percentage of customers who have churned (1): 31.67%\n"
     ]
    }
   ],
   "source": [
    "# Count the occurrences of each value in the 'target' column\n",
    "value_counts = churn_data['target'].value_counts()\n",
    "\n",
    "# Calculate the percentage for each value\n",
    "percentages = (value_counts / len(churn_data)) * 100\n",
    "\n",
    "# Print the results\n",
    "print(\"Percentage of customers who have not churned (0): {:.2f}%\".format(percentages[0]))\n",
    "print(\"Percentage of customers who have churned (1): {:.2f}%\".format(percentages[1]))"
   ]
  },
  {
   "cell_type": "code",
   "execution_count": 25,
   "id": "dc65acd0",
   "metadata": {},
   "outputs": [
    {
     "data": {
      "image/png": "[encoded data removed]",
      "text/plain": [
       "<Figure size 432x288 with 1 Axes>"
      ]
     },
     "metadata": {
      "needs_background": "light"
     },
     "output_type": "display_data"
    }
   ],
   "source": [
    "# Distribution Plot for 'target' column\n",
    "sns.histplot(data=churn_data, x=\"target\", kde=True, multiple=\"stack\")\n",
    "\n",
    "# Display the plot\n",
    "plt.title(\"Target Distribution of customers who have churned\")\n",
    "plt.show()"
   ]
  },
  {
   "cell_type": "markdown",
   "id": "76505a23",
   "metadata": {},
   "source": [
    "### Selecting columns for Pairplot and Heatmap"
   ]
  },
  {
   "cell_type": "markdown",
   "id": "86db4224",
   "metadata": {},
   "source": [
    "To choose a subset of columns for a pairplot or heatmap, it's important to select features that have meaningful relationships and are relevant for analysis. Since your dataset is related to churn prediction. Features that are likely to have a significant impact on whether a customer churns or not are:\n",
    "\n",
    "**Revenue-related columns:** Revenue is often a critical indicator of customer behavior.\n",
    "\n",
    "1) s6.new.rev.p2.m2\n",
    "2) s1.new.rev.m1\n",
    "3) s3.og.rev.4db.p5\n",
    "4) s8.new.rev.p6\n",
    "\n",
    "**Target column:** helps to distinguish between churned and non-churned customers."
   ]
  },
  {
   "cell_type": "code",
   "execution_count": 26,
   "id": "d7ab7b2d",
   "metadata": {},
   "outputs": [
    {
     "data": {
      "image/png": "[encoded data removed]",
      "text/plain": [
       "<Figure size 762.375x720 with 20 Axes>"
      ]
     },
     "metadata": {
      "needs_background": "light"
     },
     "output_type": "display_data"
    }
   ],
   "source": [
    "# Select a subset of columns for the pairplot\n",
    "selected_columns = [ 's6.new.rev.p2.m2', 's1.new.rev.m1', 's3.og.rev.4db.p5', 's8.new.rev.p6','target']\n",
    "\n",
    "# Pairplot of selected features\n",
    "sns.pairplot(churn_data[selected_columns], diag_kind=\"kde\", hue='target')\n",
    "plt.suptitle(\"Pairplot of Selected Features\", y=1.02)\n",
    "plt.show()"
   ]
  },
  {
   "cell_type": "code",
   "execution_count": 27,
   "id": "b22b7238",
   "metadata": {},
   "outputs": [
    {
     "data": {
      "image/png": "[encoded data removed]",
      "text/plain": [
       "<Figure size 864x576 with 2 Axes>"
      ]
     },
     "metadata": {
      "needs_background": "light"
     },
     "output_type": "display_data"
    }
   ],
   "source": [
    "# Heatmap of the correlation matrix\n",
    "\n",
    "plt.figure(figsize=(12, 8))\n",
    "correlation_matrix = churn_data[selected_columns].corr()\n",
    "sns.heatmap(correlation_matrix, annot=True, fmt=\".2f\", cmap=\"coolwarm\", cbar=True)\n",
    "plt.title(\"Correlation Heatmap\")\n",
    "plt.show()"
   ]
  },
  {
   "cell_type": "markdown",
   "id": "c577cf04",
   "metadata": {},
   "source": [
    "# DATA PREPROCESSING STEPS"
   ]
  },
  {
   "cell_type": "markdown",
   "id": "01399dd4",
   "metadata": {},
   "source": [
    "### 1) Removing Duplicate Records"
   ]
  },
  {
   "cell_type": "markdown",
   "id": "27017388",
   "metadata": {},
   "source": [
    "Removing duplicate records is crucial for ensuring data integrity, improving model performance, enhancing resource efficiency, and obtaining accurate insights. By cleaning the dataset of duplicates, you ensure that the data is a true representation of the underlying phenomena, **leading to more reliable and valid outcomes** in data analysis and machine learning tasks."
   ]
  },
  {
   "cell_type": "code",
   "execution_count": 28,
   "id": "f250f998",
   "metadata": {},
   "outputs": [
    {
     "name": "stdout",
     "output_type": "stream",
     "text": [
      "Number of records before removing duplicates:  25000\n",
      "Number of records after removing duplicates:  25000\n"
     ]
    }
   ],
   "source": [
    "print(\"Number of records before removing duplicates: \", len(churn_data))\n",
    "churn_data.drop_duplicates(inplace=True)\n",
    "print(\"Number of records after removing duplicates: \", len(churn_data))"
   ]
  },
  {
   "cell_type": "markdown",
   "id": "81d946f6",
   "metadata": {},
   "source": [
    "### 2) Removing Unique Value Variables"
   ]
  },
  {
   "cell_type": "markdown",
   "id": "30556d4a",
   "metadata": {},
   "source": [
    "Unique value variables are those where **each observation has a unique value**, making them uninformative for many types of analyses."
   ]
  },
  {
   "cell_type": "code",
   "execution_count": 29,
   "id": "8d23febd",
   "metadata": {},
   "outputs": [
    {
     "name": "stdout",
     "output_type": "stream",
     "text": [
      "Number of columns before removing unique value variables: 111\n",
      "Number of columns after removing unique value variables: 111\n"
     ]
    }
   ],
   "source": [
    "num_columns_before = len(churn_data.columns)\n",
    "for column in churn_data.columns:\n",
    "    if len(churn_data[column].unique()) == 1:\n",
    "        churn_data.drop(column, axis=1, inplace=True)\n",
    "num_columns_after = len(churn_data.columns)\n",
    "print(\"Number of columns before removing unique value variables:\", num_columns_before)\n",
    "print(\"Number of columns after removing unique value variables:\", num_columns_after)"
   ]
  },
  {
   "cell_type": "markdown",
   "id": "903fe14e",
   "metadata": {},
   "source": [
    "### 3) Removing Zero Variance Variables"
   ]
  },
  {
   "cell_type": "markdown",
   "id": "8412c804",
   "metadata": {},
   "source": [
    "Zero variance variables are those where **all observations have the same value** , making them uninformative for most analyses."
   ]
  },
  {
   "cell_type": "code",
   "execution_count": 30,
   "id": "68ebd9d4",
   "metadata": {},
   "outputs": [
    {
     "name": "stdout",
     "output_type": "stream",
     "text": [
      "Number of columns before removing zero variance variables: 111\n",
      "Number of columns after removing zero variance variables: 111\n"
     ]
    }
   ],
   "source": [
    "num_columns_before = len(churn_data.columns)\n",
    "for column in churn_data.columns:\n",
    "    if churn_data[column].var() == 0:\n",
    "        churn_data.drop(column, axis=1, inplace=True)\n",
    "num_columns_after = len(churn_data.columns)\n",
    "print(\"Number of columns before removing zero variance variables:\", num_columns_before)\n",
    "print(\"Number of columns after removing zero variance variables:\", num_columns_after)"
   ]
  },
  {
   "cell_type": "markdown",
   "id": "13d8961e",
   "metadata": {},
   "source": [
    "## 4) OUTLIER TREATMENT"
   ]
  },
  {
   "cell_type": "markdown",
   "id": "b3a76397",
   "metadata": {},
   "source": [
    "Outliers are data points that deviate significantly from the majority of the data. Proper treatment of outliers is crucial because they can distort statistical analyses and machine learning models, leading to inaccurate results and poor performance.\n",
    "\n",
    "**Importance of Outlier Treatment:**\n",
    "\n",
    "Accuracy of Statistical Analysis - skewed mean, variances<br>\n",
    "Model Performance - overfitting or underfitting<br>\n",
    "Data Quality - data entry errors or rare events<br>\n",
    "Normalization & Standardization"
   ]
  },
  {
   "cell_type": "markdown",
   "id": "aaf71b5a",
   "metadata": {},
   "source": [
    "### a) Using Boxplot: Q3 + (1.5* IQR) & Q1- (1.5* IQR)  "
   ]
  },
  {
   "cell_type": "markdown",
   "id": "66d50486",
   "metadata": {},
   "source": [
    "This method identifies outliers based on the **interquartile range** (IQR)<br>\n",
    "IQR is the range between the first quartile (Q1) and the third quartile (Q3)<br>\n",
    "Outliers are typically defined as values beyond Q3 + (1.5* IQR) or below Q1 − (1.5* IQR)<br>"
   ]
  },
  {
   "cell_type": "code",
   "execution_count": 8,
   "id": "8613a566",
   "metadata": {},
   "outputs": [
    {
     "name": "stdout",
     "output_type": "stream",
     "text": [
      "Column 's6.new.rev.p2.m2': 424 outliers detected\n",
      "Column 's1.new.rev.m1': 549 outliers detected\n",
      "Column 's3.og.rev.4db.p5': 704 outliers detected\n",
      "Column 's3.new.rev.4db.p5': 982 outliers detected\n",
      "Column 's4.usg.ins.p2': 0 outliers detected\n",
      "Column 's4.og.unq.any.p2': 406 outliers detected\n",
      "Column 's2.rch.val.p6': 597 outliers detected\n",
      "Column 's1.og.rev.all.m1': 691 outliers detected\n",
      "Column 's8.new.rev.p6': 941 outliers detected\n",
      "Column 's4.loc.ic.ins.p1': 1546 outliers detected\n",
      "Column 's8.mbl.p2': 2750 outliers detected\n",
      "Column 's2.rch.val.l67': 619 outliers detected\n",
      "Column 's7.s4.day.no.mou.p2.p4': 0 outliers detected\n",
      "Column 's3.new.rev.p3': 1098 outliers detected\n",
      "Column 's7.s5.s4.day.nomou.p4': 0 outliers detected\n",
      "Column 's8.og.rev.p3': 1162 outliers detected\n",
      "Column 's8.ic.mou.all.p3': 1355 outliers detected\n",
      "Column 'target': 0 outliers detected\n",
      "Column 's7.new.rev.p2.p6': 86 outliers detected\n",
      "Column 's6.rtd.mou.p2.m2': 509 outliers detected\n",
      "Column 's7.rtd.mou.p2.p6': 141 outliers detected\n",
      "Column 's1.new.rev.p2': 726 outliers detected\n",
      "Column 's1.new.rev.p1': 789 outliers detected\n",
      "Column 's1.og.hom.mou.p1': 1091 outliers detected\n",
      "Column 's7.rev.p2.p6': 128 outliers detected\n",
      "Column 's1.og.hom.rev.p2': 705 outliers detected\n",
      "Column 's1.rtd.mou.p1': 1108 outliers detected\n",
      "Column 's1.og.rev.all.p1': 739 outliers detected\n",
      "Column 's1.og.mou.all.p1': 1094 outliers detected\n",
      "Column 's3.og.rev.all.p1': 746 outliers detected\n",
      "Column 's7.new.rev.p3.p6': 149 outliers detected\n",
      "Column 'ds.usg.p6': 5988 outliers detected\n",
      "Column 'snd.dec.p2': 704 outliers detected\n",
      "Column 's3.og.mou.all.p1': 1134 outliers detected\n",
      "Column 'ds.og.usg.p4': 6230 outliers detected\n",
      "Column 's1.og.mou.all.p2': 1063 outliers detected\n",
      "Column 's8.og.rev.p6': 865 outliers detected\n",
      "Column 's1.og.hom.mou.p2': 1070 outliers detected\n",
      "Column 's5.og.rev.all.p1': 657 outliers detected\n",
      "Column 's1.og.rev.all.p2': 723 outliers detected\n",
      "Column 's1.rtd.mou.p2': 1071 outliers detected\n",
      "Column 's5.rtd.mou.p1': 1077 outliers detected\n",
      "Column 's1.og.mou.any.p2': 1069 outliers detected\n",
      "Column 's4.day.no.mou.p2': 0 outliers detected\n",
      "Column 's1.hom.rmg.rev.p2': 723 outliers detected\n",
      "Column 's7.rtd.mou.p3.p6': 143 outliers detected\n",
      "Column 's5.og.mou.all.p1': 1079 outliers detected\n",
      "Column 's5.og.hom.mou.p1': 1072 outliers detected\n",
      "Column 's3.new.rev.p1': 888 outliers detected\n",
      "Column 's4.usg.ins.p1': 2557 outliers detected\n",
      "Column 's2.s4.day.no.mou.p2': 0 outliers detected\n",
      "Column 's7.new.rev.l21.p6': 0 outliers detected\n",
      "Column 's5.rev.p1': 1091 outliers detected\n",
      "Column 's5.s4.day.no.mou.p2': 0 outliers detected\n",
      "Column 'tot.s4.day.no.mou.p2': 0 outliers detected\n",
      "Column 's8.new.rev.p3': 1333 outliers detected\n",
      "Column 's3.og.mou.all.p2': 1089 outliers detected\n",
      "Column 's1.rev.p1': 936 outliers detected\n",
      "Column 's4.loc.og.ins.p1': 0 outliers detected\n",
      "Column 's1.loc.og.mou.p1': 1080 outliers detected\n",
      "Column 's4.og.any.p2': 632 outliers detected\n",
      "Column 'prop.og.mou.any.p2': 0 outliers detected\n",
      "Column 's4.low.blnc.ins.p3': 0 outliers detected\n",
      "Column 's1.loc.og.mou.p2': 1070 outliers detected\n",
      "Column 's5.new.rev.p2': 906 outliers detected\n",
      "Column 's5.new.rev.p1': 791 outliers detected\n",
      "Column 's4.low.blnc.ins.l14': 0 outliers detected\n",
      "Column 's3.og.hom.mou.p1': 1130 outliers detected\n",
      "Column 's7.rtd.mou.l21.p6': 0 outliers detected\n",
      "Column 's4.loc.og.ins.l14': 0 outliers detected\n",
      "Column 's8.rtd.mou.p3': 1857 outliers detected\n",
      "Column 's4.dec.ins.l14': 0 outliers detected\n",
      "Column 's2.s4.day.no.mou.p3': 1411 outliers detected\n",
      "Column 's3.new.rev.p2': 944 outliers detected\n",
      "Column 'tot.s4.day.no.mou.p3': 0 outliers detected\n",
      "Column 's5.og.mou.all.p2': 1045 outliers detected\n",
      "Column 's4.loc.ic.ins.l14': 0 outliers detected\n",
      "Column 's4.usg.ins.l14': 0 outliers detected\n",
      "Column 's4.loc.og.ins.p2': 0 outliers detected\n",
      "Column 's3.rtd.mou.p1': 1143 outliers detected\n",
      "Column 's7.s5.s4.day.nomou.p2': 0 outliers detected\n",
      "Column 's8.og.mou.all.p6': 2030 outliers detected\n",
      "Column 's5.og.hom.mou.p2': 1048 outliers detected\n",
      "Column 's7.rtd.mou.m1.m2': 591 outliers detected\n",
      "Column 'prop.og.mou.tot.mou.all.p2': 0 outliers detected\n",
      "Column 's8.rev.p6': 1078 outliers detected\n",
      "Column 's7.s5.s4.day.nomou.p3': 0 outliers detected\n",
      "Column 's5.rev.p2': 1257 outliers detected\n",
      "Column 's1.new.rev.m2': 516 outliers detected\n",
      "Column 's3.og.rev.3db.p5': 660 outliers detected\n",
      "Column 's4.rch.val.gt.30.p2': 509 outliers detected\n",
      "Column 's8.rtd.mou.p6': 1893 outliers detected\n",
      "Column 's4.std.ins.l14': 2099 outliers detected\n",
      "Column 's4.low.blnc.ins.p2': 0 outliers detected\n",
      "Column 's4.low.blnc.ins.p6': 0 outliers detected\n",
      "Column 's4.loc.ins.l14': 3620 outliers detected\n",
      "Column 's4.low.blnc.ins.m2': 0 outliers detected\n",
      "Column 's4.data.ins.l14': 3596 outliers detected\n",
      "Column 'prop.loc.i2i.mou.og.mou.p6': 0 outliers detected\n",
      "Column 's4.dec.ins.p2': 0 outliers detected\n",
      "Column 's1.rev.p2': 855 outliers detected\n",
      "Column 'prop.og.mou.tot.mou.all.p6': 0 outliers detected\n",
      "Column 'prop.i2i.og.mou.p6': 0 outliers detected\n",
      "Column 's4.loc.ic.ins.p2': 0 outliers detected\n",
      "Column 's4.std.ic.ins.l14': 1859 outliers detected\n",
      "Column 's4.low.blnc.ins.p4': 0 outliers detected\n",
      "Column 's3.og.rev.all.m2': 601 outliers detected\n",
      "Column 's3.new.rev.m2': 1012 outliers detected\n",
      "Column 'prop.og.mou.any.p6': 0 outliers detected\n",
      "Column 'prop.loc.i2i.mou.og.mou.p3': 0 outliers detected\n",
      "Column 's3.rev.p1': 1081 outliers detected\n",
      "Number of records after outlier treatment: 5101\n"
     ]
    }
   ],
   "source": [
    "import numpy as np\n",
    "import pandas as pd\n",
    "\n",
    "def detect_outliers_iqr(data_column, multiplier=1.5):\n",
    "    Q1 = np.percentile(data_column, 25)\n",
    "    Q3 = np.percentile(data_column, 75)\n",
    "    IQR = Q3 - Q1\n",
    "    lower_bound = Q1 - multiplier * IQR\n",
    "    upper_bound = Q3 + multiplier * IQR\n",
    "    return (data_column < lower_bound) | (data_column > upper_bound)\n",
    "\n",
    "multiplier = 2.5 \n",
    "outliers = {}\n",
    "for column in churn_data.select_dtypes(include=np.number).columns:\n",
    "    outliers[column] = detect_outliers_iqr(churn_data[column], multiplier=multiplier)\n",
    "\n",
    "# Outliers counts\n",
    "outlier_counts = {col: outliers[col].sum() for col in outliers}\n",
    "for col, count in outlier_counts.items():\n",
    "    print(f\"Column '{col}': {count} outliers detected\")\n",
    "\n",
    "# Removing outliers\n",
    "def remove_outliers(df, multiplier=1.5):\n",
    "    numeric_columns = df.select_dtypes(include=['float64', 'int64']).columns\n",
    "    for column in numeric_columns:\n",
    "        outlier_mask = detect_outliers_iqr(df[column], multiplier=multiplier)\n",
    "        df = df[~outlier_mask]\n",
    "    return df\n",
    "\n",
    "# Make a copy of the original DataFrame before removing outliers\n",
    "churn_data_clean = churn_data.copy()\n",
    "churn_data_clean = remove_outliers(churn_data_clean, multiplier=multiplier)\n",
    "\n",
    "print(\"Number of records after outlier treatment:\", len(churn_data_clean))"
   ]
  },
  {
   "cell_type": "markdown",
   "id": "e5597349",
   "metadata": {},
   "source": [
    "### b) Using Three Sigma Approach  "
   ]
  },
  {
   "cell_type": "markdown",
   "id": "265f7fba",
   "metadata": {},
   "source": [
    "This method uses the **mean** (μ) and **standard deviation** (𝜎) of the data. Outliers are identified as data points that lie beyond **μ±3σ** <br>\n",
    "**Usage:** Suitable for normally distributed data.\n",
    "\n",
    "In statistical theory, particularly when dealing with normally distributed data about 99.73% of the data points are expected to have a Z-score less than 3 (empirical rule)"
   ]
  },
  {
   "cell_type": "code",
   "execution_count": 3,
   "id": "ab7e5237",
   "metadata": {},
   "outputs": [
    {
     "name": "stdout",
     "output_type": "stream",
     "text": [
      "Number of records after outlier treatment: 17612\n"
     ]
    }
   ],
   "source": [
    "# Function to detect outliers using Z-score\n",
    "def detect_outliers_zscore(data_column):\n",
    "    threshold = 3  # Define the threshold for outlier detection\n",
    "    mean = np.mean(data_column)\n",
    "    std_dev = np.std(data_column)\n",
    "    z_scores = np.abs((data_column - mean) / std_dev)\n",
    "    return z_scores > threshold\n",
    "\n",
    "# Detect outliers for each numeric column using Z-score approach\n",
    "outliers = {}\n",
    "for column in churn_data.select_dtypes(include=np.number):\n",
    "    outliers[column] = detect_outliers_zscore(churn_data[column])\n",
    "\n",
    "# Remove outliers from the dataset\n",
    "def remove_outliers_zscore(df, outliers):\n",
    "    for column in df.select_dtypes(include=['float64', 'int64']).columns:\n",
    "        df = df.loc[~outliers[column]]\n",
    "    return df\n",
    "\n",
    "churn_data_clean = remove_outliers_zscore(churn_data, outliers)\n",
    "\n",
    "# Print number of records after outlier treatment\n",
    "print(\"Number of records after outlier treatment:\", len(churn_data_clean))"
   ]
  },
  {
   "cell_type": "markdown",
   "id": "093f4890",
   "metadata": {},
   "source": [
    "### c) Using Capping and Flooring "
   ]
  },
  {
   "cell_type": "markdown",
   "id": "86205ae2",
   "metadata": {},
   "source": [
    "Values above the upper bound are capped to a specified maximum value, and values below the lower bound are floored to a specified minimum value.<br>\n",
    "Preferred when it is important to maintain all data points but mitigate the impact of extreme values. This is often used in financial data or when preparing data for machine learning models that are sensitive to outliers.<br>\n",
    "\n",
    "**Usage:** Useful when outliers are suspected to be data entry errors<br>\n",
    "**Cons:** Can distort the distribution of the data; the choice of bounds is arbitrary and may need domain knowledge\n"
   ]
  },
  {
   "cell_type": "code",
   "execution_count": 4,
   "id": "bfa462de",
   "metadata": {},
   "outputs": [
    {
     "name": "stdout",
     "output_type": "stream",
     "text": [
      "Number of records after outlier treatment: 25000\n"
     ]
    }
   ],
   "source": [
    "# Function to cap and floor outliers based on percentile\n",
    "def cap_floor_outliers_percentile(df, lower_percentile=0.05, upper_percentile=0.95):\n",
    "    lower_bound = df.quantile(lower_percentile)\n",
    "    upper_bound = df.quantile(upper_percentile)\n",
    "    \n",
    "    # Apply capping and flooring\n",
    "    for column in df.select_dtypes(include=['float64', 'int64']).columns:\n",
    "        df[column] = df[column].apply(lambda x: upper_bound[column] if x > upper_bound[column] else x)\n",
    "        df[column] = df[column].apply(lambda x: lower_bound[column] if x < lower_bound[column] else x)\n",
    "    \n",
    "    return df\n",
    "\n",
    "# Apply the function to churn_data\n",
    "churn_data_clean = cap_floor_outliers_percentile(churn_data)\n",
    "\n",
    "# Print number of records after outlier treatment\n",
    "print(\"Number of records after outlier treatment:\", len(churn_data_clean))"
   ]
  },
  {
   "cell_type": "markdown",
   "id": "be6832a2",
   "metadata": {},
   "source": [
    "## 5) MISSING VALUE TREATMENT "
   ]
  },
  {
   "cell_type": "markdown",
   "id": "122c182a",
   "metadata": {},
   "source": [
    "Missing value treatment is crucial for maintaining data quality, ensuring robust analysis, and maximizing the utility of the dataset. Neglecting to address missing values can lead to **biased** analysis, **unreliable** models, and incomplete insights, ultimately undermining the validity and effectiveness of data-driven decision-making processes."
   ]
  },
  {
   "cell_type": "code",
   "execution_count": 5,
   "id": "b87ddae9",
   "metadata": {},
   "outputs": [
    {
     "name": "stdout",
     "output_type": "stream",
     "text": [
      "Number of records before removing if NA's are less than 5%: 25000\n",
      "Number of records after removing if NA's are less than 5%: 25000\n",
      "Number of columns before removing if NA's are 50%: 111\n",
      "Number of columns after removing if NA's are 50%: 111\n"
     ]
    }
   ],
   "source": [
    "# Removing records that have missing values in more than 5% of their columns\n",
    "# Only records that have at least 95% of their columns (non-NA values) will be retained\n",
    "num_records_before = len(churn_data_clean)\n",
    "churn_data_clean.dropna(thresh=len(churn_data_clean.columns) * 0.95, inplace=True)\n",
    "num_records_after = len(churn_data_clean)\n",
    "print(\"Number of records before removing if NA's are less than 5%:\", num_records_before)\n",
    "print(\"Number of records after removing if NA's are less than 5%:\", num_records_after)\n",
    "\n",
    "# Removing records if NA's are 50% in any variable\n",
    "num_columns_before = len(churn_data_clean.columns)\n",
    "churn_data_clean.dropna(thresh=len(churn_data_clean) * 0.5, axis=1, inplace=True)\n",
    "num_columns_after = len(churn_data_clean.columns)\n",
    "print(\"Number of columns before removing if NA's are 50%:\", num_columns_before)\n",
    "print(\"Number of columns after removing if NA's are 50%:\", num_columns_after)\n",
    "\n",
    "# Imputing with Median/Mode\n",
    "numeric_cols = churn_data_clean.select_dtypes(include=['float64', 'int64']).columns\n",
    "categorical_cols = churn_data_clean.select_dtypes(include=['object']).columns\n",
    "\n",
    "for column in numeric_cols:\n",
    "    churn_data_clean[column].fillna(churn_data_clean[column].median(), inplace=True)\n",
    "\n",
    "for column in categorical_cols:\n",
    "    churn_data_clean[column].fillna(churn_data_clean[column].mode()[0], inplace=True)"
   ]
  },
  {
   "cell_type": "markdown",
   "id": "e76d2096",
   "metadata": {},
   "source": [
    "### 6) Removing highly correlated variables"
   ]
  },
  {
   "cell_type": "markdown",
   "id": "e6190747",
   "metadata": {},
   "source": [
    "High correlation between variables can lead to **redundancy** and can negatively impact model performance.<br>\n",
    "\n",
    "Approach:\n",
    "This method involves calculating the correlation matrix of the predictor variables and identifying **pairs of variables** that have a high correlation and removing one variable from each pair"
   ]
  },
  {
   "cell_type": "code",
   "execution_count": 6,
   "id": "84f0dd6e",
   "metadata": {},
   "outputs": [
    {
     "name": "stdout",
     "output_type": "stream",
     "text": [
      "Number of columns after removing highly correlated variables: 57\n"
     ]
    }
   ],
   "source": [
    "correlation_matrix = churn_data_clean.corr().abs()\n",
    "upper = correlation_matrix.where(np.triu(np.ones(correlation_matrix.shape), k=1).astype(bool))\n",
    "to_drop = [column for column in upper.columns if any(upper[column] > 0.9)]\n",
    "churn_data_clean.drop(to_drop, axis=1, inplace=True)\n",
    "print(\"Number of columns after removing highly correlated variables:\", len(churn_data_clean.columns))"
   ]
  },
  {
   "cell_type": "markdown",
   "id": "c4c63a9c",
   "metadata": {},
   "source": [
    "### 7) Multicollinearity (VIF > 5) "
   ]
  },
  {
   "cell_type": "markdown",
   "id": "93473b48",
   "metadata": {},
   "source": [
    "Multicollinearity occurs when independent variables in a regression model are highly correlated, which can distort the results of the regression analysis. One way to detect multicollinearity is by calculating the **Variance Inflation Factor** (VIF). Generally, a VIF value greater than 5 indicates high multicollinearity and suggests that the corresponding variable should be considered for removal. \n",
    "<br>(Takes into account the multicollinearity involving multiple variables simultaneously)"
   ]
  },
  {
   "cell_type": "code",
   "execution_count": 7,
   "id": "eaa2b4f5",
   "metadata": {},
   "outputs": [
    {
     "name": "stdout",
     "output_type": "stream",
     "text": [
      "Number of columns after removing multicollinearity: 57\n"
     ]
    }
   ],
   "source": [
    "def calculate_vif(X):\n",
    "    vif_data = pd.DataFrame()\n",
    "    vif_data[\"feature\"] = X.columns\n",
    "    vif_data[\"VIF\"] = [variance_inflation_factor(X.values, i) for i in range(len(X.columns))]\n",
    "    vif_data[\"VIF\"] = vif_data[\"VIF\"].replace([np.inf, -np.inf], 9999)\n",
    "    return vif_data\n",
    "\n",
    "if 'dependent_variable' in churn_data_clean.columns:\n",
    "    X = churn_data_clean.drop(columns=['dependent_variable'])\n",
    "else:\n",
    "    X = churn_data_clean.copy()  \n",
    "vif_df = calculate_vif(X)\n",
    "print(\"Number of columns after removing multicollinearity:\", len(churn_data_clean.columns))"
   ]
  },
  {
   "cell_type": "code",
   "execution_count": 21,
   "id": "4d16c3ec",
   "metadata": {},
   "outputs": [
    {
     "data": {
      "text/plain": [
       "(25000, 57)"
      ]
     },
     "execution_count": 21,
     "metadata": {},
     "output_type": "execute_result"
    }
   ],
   "source": [
    "churn_data_clean.shape"
   ]
  },
  {
   "cell_type": "markdown",
   "id": "6ae939ff",
   "metadata": {},
   "source": [
    "## MODEL BUILDING"
   ]
  },
  {
   "cell_type": "code",
   "execution_count": 8,
   "id": "8ceea94d",
   "metadata": {},
   "outputs": [],
   "source": [
    "from sklearn.model_selection import train_test_split, GridSearchCV\n",
    "from sklearn.tree import DecisionTreeClassifier\n",
    "from sklearn.ensemble import RandomForestClassifier\n",
    "from sklearn.metrics import classification_report, confusion_matrix, accuracy_score\n",
    "from sklearn.linear_model import LogisticRegression\n",
    "\n",
    "X = churn_data_clean.drop('target', axis=1)\n",
    "y = churn_data_clean['target']\n",
    "\n",
    "# Split the data into training and testing sets\n",
    "X_train, X_test, y_train, y_test = train_test_split(X, y, test_size=0.2, random_state=42)"
   ]
  },
  {
   "cell_type": "markdown",
   "id": "9b1f2025",
   "metadata": {},
   "source": [
    "### 1. Decision Trees"
   ]
  },
  {
   "cell_type": "code",
   "execution_count": 18,
   "id": "747ffab5",
   "metadata": {},
   "outputs": [
    {
     "name": "stdout",
     "output_type": "stream",
     "text": [
      "Initial Model Confusion Matrix:\n",
      "[[2693  744]\n",
      " [ 635  928]]\n",
      "\n",
      "Initial Model Classification Report:\n",
      "              precision    recall  f1-score   support\n",
      "\n",
      "           0       0.81      0.78      0.80      3437\n",
      "           1       0.56      0.59      0.57      1563\n",
      "\n",
      "    accuracy                           0.72      5000\n",
      "   macro avg       0.68      0.69      0.68      5000\n",
      "weighted avg       0.73      0.72      0.73      5000\n",
      "\n",
      "\n",
      "Initial Model Accuracy Score:\n",
      "0.7242\n",
      "\n",
      "Accuracy Percentage: 72.42 %\n"
     ]
    }
   ],
   "source": [
    "# Build and train the initial decision tree model\n",
    "initial_model = DecisionTreeClassifier(random_state=42)\n",
    "initial_model.fit(X_train, y_train)\n",
    "\n",
    "# Make predictions with the initial model\n",
    "initial_y_pred = initial_model.predict(X_test)\n",
    "\n",
    "# Evaluate the initial model\n",
    "print(\"Initial Model Confusion Matrix:\")\n",
    "print(confusion_matrix(y_test, initial_y_pred))\n",
    "\n",
    "print(\"\\nInitial Model Classification Report:\")\n",
    "print(classification_report(y_test, initial_y_pred))\n",
    "\n",
    "print(\"\\nInitial Model Accuracy Score:\")\n",
    "print(accuracy_score(y_test, initial_y_pred))\n",
    "acc_prec= accuracy_score(y_test, initial_y_pred)*100\n",
    "print(\"\\nAccuracy Percentage:\", round(acc_prec, 3), \"%\")"
   ]
  },
  {
   "cell_type": "markdown",
   "id": "6ce130e8",
   "metadata": {},
   "source": [
    "### Hyperparameter Tuning for Decision Tree Model"
   ]
  },
  {
   "cell_type": "code",
   "execution_count": 19,
   "id": "a2f0066e",
   "metadata": {},
   "outputs": [
    {
     "name": "stdout",
     "output_type": "stream",
     "text": [
      "\n",
      "Best Parameters found by GridSearchCV:\n",
      "{'max_depth': 10, 'max_features': None}\n",
      "\n",
      "Tuned Model Confusion Matrix:\n",
      "[[2924  513]\n",
      " [ 615  948]]\n",
      "\n",
      "Tuned Model Classification Report:\n",
      "              precision    recall  f1-score   support\n",
      "\n",
      "           0       0.83      0.85      0.84      3437\n",
      "           1       0.65      0.61      0.63      1563\n",
      "\n",
      "    accuracy                           0.77      5000\n",
      "   macro avg       0.74      0.73      0.73      5000\n",
      "weighted avg       0.77      0.77      0.77      5000\n",
      "\n",
      "\n",
      "Tuned Model Accuracy: 77.44 %\n"
     ]
    }
   ],
   "source": [
    "# Defining the parameter grid\n",
    "param_grid = {\n",
    "    'max_depth': [None, 10, 20],\n",
    "    'max_features': ['sqrt', 'log2', None]\n",
    "}\n",
    "\n",
    "# Create the Decision Tree model\n",
    "dt_model = DecisionTreeClassifier(random_state=42)\n",
    "\n",
    "grid_search = GridSearchCV(dt_model, param_grid, cv=5, scoring='accuracy')\n",
    "grid_search.fit(X_train, y_train)\n",
    "\n",
    "# Print the best parameters found by GridSearchCV\n",
    "print(\"\\nBest Parameters found by GridSearchCV:\")\n",
    "print(grid_search.best_params_)\n",
    "\n",
    "# Make predictions with the best estimator\n",
    "best_model = grid_search.best_estimator_\n",
    "tuned_y_pred = best_model.predict(X_test)\n",
    "\n",
    "# Evaluate the tuned model\n",
    "print(\"\\nTuned Model Confusion Matrix:\")\n",
    "print(confusion_matrix(y_test, tuned_y_pred))\n",
    "\n",
    "print(\"\\nTuned Model Classification Report:\")\n",
    "print(classification_report(y_test, tuned_y_pred))\n",
    "\n",
    "acc_prec= accuracy_score(y_test, tuned_y_pred)*100\n",
    "print(\"\\nTuned Model Accuracy:\", round(acc_prec, 3), \"%\")"
   ]
  },
  {
   "cell_type": "markdown",
   "id": "5aadc13f",
   "metadata": {},
   "source": [
    "### ROC Curve for Tuned Decision Tree Model"
   ]
  },
  {
   "cell_type": "code",
   "execution_count": 20,
   "id": "6a53525a",
   "metadata": {},
   "outputs": [],
   "source": [
    "from sklearn.metrics import roc_curve, roc_auc_score\n",
    "import matplotlib.pyplot as plt\n",
    "\n",
    "# Predict probabilities\n",
    "y_pred_proba = best_model.predict_proba(X_test)[:, 1]\n",
    "\n",
    "# Compute ROC curve\n",
    "fpr_dt, tpr_dt, _ = roc_curve(y_test, y_pred_proba)\n",
    "auc_score_dt = roc_auc_score(y_test, y_pred_proba)"
   ]
  },
  {
   "cell_type": "markdown",
   "id": "7133191d",
   "metadata": {},
   "source": [
    "### 2. Random Forest"
   ]
  },
  {
   "cell_type": "code",
   "execution_count": 30,
   "id": "efe1e223",
   "metadata": {},
   "outputs": [
    {
     "name": "stdout",
     "output_type": "stream",
     "text": [
      "Initial Model Confusion Matrix:\n",
      "[[3099  338]\n",
      " [ 636  927]]\n",
      "\n",
      "Initial Model Classification Report:\n",
      "              precision    recall  f1-score   support\n",
      "\n",
      "           0       0.83      0.90      0.86      3437\n",
      "           1       0.73      0.59      0.66      1563\n",
      "\n",
      "    accuracy                           0.81      5000\n",
      "   macro avg       0.78      0.75      0.76      5000\n",
      "weighted avg       0.80      0.81      0.80      5000\n",
      "\n",
      "\n",
      "Initial Model Accuracy Score:\n",
      "0.8052\n",
      "\n",
      "Accuracy Percentage: 80.52 %\n"
     ]
    }
   ],
   "source": [
    "# Build and train the initial random forest model\n",
    "rf_model = RandomForestClassifier(n_estimators=100, random_state=42)\n",
    "rf_model.fit(X_train, y_train)\n",
    "y_pred = rf_model.predict(X_test)\n",
    "\n",
    "# Make predictions with the initial model\n",
    "initial_y_pred = rf_model.predict(X_test)\n",
    "\n",
    "# Evaluate the initial model\n",
    "print(\"Initial Model Confusion Matrix:\")\n",
    "print(confusion_matrix(y_test, initial_y_pred))\n",
    "\n",
    "print(\"\\nInitial Model Classification Report:\")\n",
    "print(classification_report(y_test, initial_y_pred))\n",
    "\n",
    "print(\"\\nInitial Model Accuracy Score:\")\n",
    "print(accuracy_score(y_test, initial_y_pred))\n",
    "acc_prec= accuracy_score(y_test, initial_y_pred)*100\n",
    "print(\"\\nAccuracy Percentage:\", round(acc_prec, 3), \"%\")"
   ]
  },
  {
   "cell_type": "markdown",
   "id": "ce6a6e0f",
   "metadata": {},
   "source": [
    "### Hyperparameter Tuning for Random Forest Model "
   ]
  },
  {
   "cell_type": "code",
   "execution_count": 31,
   "id": "6c7757f9",
   "metadata": {},
   "outputs": [
    {
     "name": "stdout",
     "output_type": "stream",
     "text": [
      "Fitting 5 folds for each of 8 candidates, totalling 40 fits\n",
      "Best Hyperparameters: {'max_depth': 10, 'max_features': 'sqrt', 'n_estimators': 50}\n",
      "\n",
      "Tuned Model Confusion Matrix:\n",
      "[[3103  334]\n",
      " [ 649  914]]\n",
      "\n",
      "Tuned Model Classification Report:\n",
      "              precision    recall  f1-score   support\n",
      "\n",
      "           0       0.83      0.90      0.86      3437\n",
      "           1       0.73      0.58      0.65      1563\n",
      "\n",
      "    accuracy                           0.80      5000\n",
      "   macro avg       0.78      0.74      0.76      5000\n",
      "weighted avg       0.80      0.80      0.80      5000\n",
      "\n",
      "\n",
      "Tuned Model Accuracy: 80.34 %\n"
     ]
    }
   ],
   "source": [
    "# Defining the parameter grid\n",
    "param_grid = {\n",
    "    'n_estimators': [50, 100],\n",
    "    'max_depth': [None, 10],\n",
    "    'max_features': ['sqrt', 'log2']\n",
    "}\n",
    "\n",
    "# Create the Random Forest model\n",
    "rf_model = RandomForestClassifier()\n",
    "\n",
    "# Perform grid search\n",
    "grid_search = GridSearchCV(rf_model, param_grid, cv=5, scoring='accuracy', verbose=2, n_jobs=-1)\n",
    "grid_search.fit(X_train, y_train)\n",
    "\n",
    "# Getting the best hyperparameters\n",
    "best_params = grid_search.best_params_\n",
    "print(\"Best Hyperparameters:\", best_params)\n",
    "\n",
    "# Training the model with the best hyperparameters\n",
    "best_rf_model = RandomForestClassifier(**best_params)\n",
    "best_rf_model.fit(X_train, y_train)\n",
    "\n",
    "# Make predictions with the best estimator\n",
    "best_model = grid_search.best_estimator_\n",
    "tuned_y_pred = best_model.predict(X_test)\n",
    "\n",
    "# Evaluate the tuned model\n",
    "print(\"\\nTuned Model Confusion Matrix:\")\n",
    "print(confusion_matrix(y_test, tuned_y_pred))\n",
    "\n",
    "print(\"\\nTuned Model Classification Report:\")\n",
    "print(classification_report(y_test, tuned_y_pred))\n",
    "\n",
    "acc_prec = accuracy_score(y_test, tuned_y_pred) * 100\n",
    "print(\"\\nTuned Model Accuracy:\", round(acc_prec, 3), \"%\")"
   ]
  },
  {
   "cell_type": "markdown",
   "id": "a04f7562",
   "metadata": {},
   "source": [
    "### ROC Curve for Tuned Random Forest Model "
   ]
  },
  {
   "cell_type": "code",
   "execution_count": 33,
   "id": "8eab6b14",
   "metadata": {},
   "outputs": [],
   "source": [
    "# Predict probabilities with the best estimator\n",
    "y_pred_proba = best_model.predict_proba(X_test)[:, 1]\n",
    "\n",
    "# Compute ROC curve\n",
    "fpr_rf, tpr_rf, _ = roc_curve(y_test, y_pred_proba)\n",
    "auc_score_rf = roc_auc_score(y_test, y_pred_proba)"
   ]
  },
  {
   "cell_type": "markdown",
   "id": "5ae0c45e",
   "metadata": {},
   "source": [
    "### 3. Logistic Regression "
   ]
  },
  {
   "cell_type": "code",
   "execution_count": 25,
   "id": "40465b2d",
   "metadata": {},
   "outputs": [
    {
     "name": "stdout",
     "output_type": "stream",
     "text": [
      "\n",
      "Accuracy Percentage: 80.48 %\n",
      "Confusion Matrix:\n",
      "[[3091  346]\n",
      " [ 630  933]]\n",
      "Classification Report:\n",
      "              precision    recall  f1-score   support\n",
      "\n",
      "           0       0.83      0.90      0.86      3437\n",
      "           1       0.73      0.60      0.66      1563\n",
      "\n",
      "    accuracy                           0.80      5000\n",
      "   macro avg       0.78      0.75      0.76      5000\n",
      "weighted avg       0.80      0.80      0.80      5000\n",
      "\n"
     ]
    }
   ],
   "source": [
    "from sklearn.preprocessing import StandardScaler\n",
    "\n",
    "# Scale the data\n",
    "scaler = StandardScaler()\n",
    "X_train_scaled = scaler.fit_transform(X_train)\n",
    "X_test_scaled = scaler.transform(X_test)\n",
    "\n",
    "# Initialize the Logistic Regression model with increased max_iter\n",
    "logreg = LogisticRegression(max_iter=5000, solver=\"liblinear\")\n",
    "\n",
    "# Fit the model to the training data\n",
    "logreg.fit(X_train, y_train)\n",
    "\n",
    "# Predict on the test data\n",
    "y_pred = logreg.predict(X_test)\n",
    "\n",
    "# Evaluate the model\n",
    "accuracy = accuracy_score(y_test, y_pred)\n",
    "conf_matrix = confusion_matrix(y_test, y_pred)\n",
    "class_report = classification_report(y_test, y_pred)\n",
    "\n",
    "acc_prec= accuracy_score(y_test, y_pred)*100\n",
    "print(\"\\nAccuracy Percentage:\", round(acc_prec, 3), \"%\")\n",
    "print('Confusion Matrix:')\n",
    "print(conf_matrix)\n",
    "print('Classification Report:')\n",
    "print(class_report)"
   ]
  },
  {
   "cell_type": "code",
   "execution_count": 26,
   "id": "545d0d43",
   "metadata": {},
   "outputs": [
    {
     "name": "stdout",
     "output_type": "stream",
     "text": [
      "Fitting 5 folds for each of 60 candidates, totalling 300 fits\n",
      "Best Parameters: {'C': 0.01, 'max_iter': 1000, 'penalty': 'l1', 'solver': 'liblinear'}\n",
      "Accuracy of Best Model: 0.8028\n",
      "Confusion Matrix of Best Model:\n",
      "[[3092  345]\n",
      " [ 641  922]]\n",
      "Classification Report of Best Model:\n",
      "              precision    recall  f1-score   support\n",
      "\n",
      "           0       0.83      0.90      0.86      3437\n",
      "           1       0.73      0.59      0.65      1563\n",
      "\n",
      "    accuracy                           0.80      5000\n",
      "   macro avg       0.78      0.74      0.76      5000\n",
      "weighted avg       0.80      0.80      0.80      5000\n",
      "\n",
      "\n",
      "Accuracy Percentage of Best Model: 80.28 %\n"
     ]
    }
   ],
   "source": [
    "# Define the parameter grid\n",
    "param_grid = {\n",
    "    'solver': ['liblinear', 'saga'],\n",
    "    'penalty': ['l1', 'l2'],\n",
    "    'C': [0.01, 0.1, 1, 10, 100],\n",
    "    'max_iter': [1000, 2000, 5000]\n",
    "}\n",
    "\n",
    "# Initialize the Logistic Regression model\n",
    "logreg = LogisticRegression()\n",
    "\n",
    "# Initialize GridSearchCV\n",
    "grid_search = GridSearchCV(logreg, param_grid, cv=5, verbose=1, n_jobs=-1)\n",
    "\n",
    "# Fit GridSearchCV to the data\n",
    "grid_search.fit(X_train_scaled, y_train)\n",
    "\n",
    "# Get the best parameters and best score\n",
    "best_params = grid_search.best_params_\n",
    "\n",
    "print(f'Best Parameters: {best_params}')\n",
    "\n",
    "# Predict on the test data with the best estimator\n",
    "best_estimator = grid_search.best_estimator_\n",
    "y_pred_best = best_estimator.predict(X_test_scaled)\n",
    "\n",
    "# Evaluate the best model\n",
    "accuracy_best = accuracy_score(y_test, y_pred_best)\n",
    "conf_matrix_best = confusion_matrix(y_test, y_pred_best)\n",
    "class_report_best = classification_report(y_test, y_pred_best)\n",
    "\n",
    "print(f'Accuracy of Best Model: {accuracy_best}')\n",
    "print('Confusion Matrix of Best Model:')\n",
    "print(conf_matrix_best)\n",
    "print('Classification Report of Best Model:')\n",
    "print(class_report_best)\n",
    "\n",
    "# Print accuracy percentage of the best model\n",
    "acc_prec_best = accuracy_best * 100\n",
    "print(\"\\nAccuracy Percentage of Best Model:\", round(acc_prec_best, 3), \"%\")"
   ]
  },
  {
   "cell_type": "markdown",
   "id": "0036ed4f",
   "metadata": {},
   "source": [
    "### ROC Curve for Tuned Logistic Regression Model"
   ]
  },
  {
   "cell_type": "code",
   "execution_count": 28,
   "id": "52c8191c",
   "metadata": {},
   "outputs": [],
   "source": [
    "# Predict probabilities with the best estimator\n",
    "y_pred_proba = best_model.predict_proba(X_test)[:, 1]\n",
    "\n",
    "# Compute ROC curve\n",
    "fpr_lr, tpr_lr, _ = roc_curve(y_test, y_pred_proba)\n",
    "auc_score_lr = roc_auc_score(y_test, y_pred_proba)"
   ]
  },
  {
   "cell_type": "markdown",
   "id": "6be392f1",
   "metadata": {},
   "source": [
    "### Cumulative ROC Curve of all three models "
   ]
  },
  {
   "cell_type": "code",
   "execution_count": 40,
   "id": "7fdc4ef9",
   "metadata": {},
   "outputs": [
    {
     "data": {
      "image/png": "[encoded data removed]",
      "text/plain": [
       "<Figure size 720x432 with 1 Axes>"
      ]
     },
     "metadata": {
      "needs_background": "light"
     },
     "output_type": "display_data"
    }
   ],
   "source": [
    "plt.figure(figsize=(10, 6))\n",
    "\n",
    "# Plot Decision Tree ROC curve\n",
    "plt.plot(fpr_dt, tpr_dt, label=f'Decision Tree (AUC = {auc_score_dt:.2f})', color='blue')\n",
    "\n",
    "# Plot Random Forest ROC curve\n",
    "plt.plot(fpr_rf, tpr_rf, label=f'Random Forest (AUC = {auc_score_rf:.2f})', color='green')\n",
    "\n",
    "# Plot Logistic Regression ROC curve\n",
    "plt.plot(fpr_lr, tpr_lr, label=f'Logistic Regression (AUC = {auc_score_lr:.2f})', color='red')\n",
    "\n",
    "# Plot diagonal line\n",
    "plt.plot([0, 1], [0, 1], 'k--')\n",
    "\n",
    "# Set plot attributes\n",
    "plt.xlim([0.0, 1.0])\n",
    "plt.ylim([0.0, 1.05])\n",
    "plt.xlabel('False Positive Rate')\n",
    "plt.ylabel('True Positive Rate')\n",
    "plt.title('ROC Curve - All Models')\n",
    "plt.legend(loc='lower right')\n",
    "plt.show()"
   ]
  },
  {
   "cell_type": "code",
   "execution_count": null,
   "id": "8f872bc6",
   "metadata": {},
   "outputs": [],
   "source": []
  }
 ],
 "metadata": {
  "kernelspec": {
   "display_name": "Python 3 (ipykernel)",
   "language": "python",
   "name": "python3"
  },
  "language_info": {
   "codemirror_mode": {
    "name": "ipython",
    "version": 3
   },
   "file_extension": ".py",
   "mimetype": "text/x-python",
   "name": "python",
   "nbconvert_exporter": "python",
   "pygments_lexer": "ipython3",
   "version": "3.9.12"
  }
 },
 "nbformat": 4,
 "nbformat_minor": 5
}
